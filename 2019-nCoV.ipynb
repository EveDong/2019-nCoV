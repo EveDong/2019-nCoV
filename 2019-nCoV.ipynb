{
 "cells": [
  {
   "cell_type": "code",
   "execution_count": 1,
   "metadata": {},
   "outputs": [],
   "source": [
    "import json\n",
    "import time\n",
    "from datetime import datetime\n",
    "\n",
    "%matplotlib inline\n",
    "import matplotlib.pyplot as plt\n",
    "import numpy as np\n",
    "import pandas as pd\n",
    "import requests\n",
    "from IPython.display import IFrame\n",
    "from pyecharts import options as opts\n",
    "from pyecharts.charts import Line, Map, Pie\n",
    "from pypinyin import lazy_pinyin\n",
    "\n",
    "plt.rcParams[\"font.sans-serif\"] = [\"FangSong\"]\n",
    "plt.rcParams[\"axes.unicode_minus\"] = False"
   ]
  },
  {
   "cell_type": "code",
   "execution_count": 2,
   "metadata": {},
   "outputs": [
    {
     "data": {
      "text/plain": [
       "dict_keys(['chinaTotal', 'chinaAdd', 'lastUpdateTime', 'areaTree', 'chinaDayList', 'chinaDayAddList', 'isShowAdd'])"
      ]
     },
     "execution_count": 2,
     "metadata": {},
     "output_type": "execute_result"
    }
   ],
   "source": [
    "url = \"https://view.inews.qq.com/g2/getOnsInfo?name=disease_h5&callback=&_=%d\" % int(\n",
    "    time.time() * 1000\n",
    ")\n",
    "data = json.loads(requests.get(url=url).json()[\"data\"])\n",
    "data.keys()\n",
    "# data"
   ]
  },
  {
   "cell_type": "markdown",
   "metadata": {},
   "source": [
    "# China Trend"
   ]
  },
  {
   "cell_type": "code",
   "execution_count": 3,
   "metadata": {},
   "outputs": [],
   "source": [
    "data[\"chinaDayList\"].sort(key=lambda x: x[\"date\"])\n",
    "# data[\"chinaDayList\"]"
   ]
  },
  {
   "cell_type": "code",
   "execution_count": 4,
   "metadata": {},
   "outputs": [],
   "source": [
    "date_list = []\n",
    "confirmed_list = []\n",
    "suspected_list = []\n",
    "dead_list = []\n",
    "cured_list = []\n",
    "for item in data[\"chinaDayList\"]:\n",
    "    month, day = item[\"date\"].split(\".\")\n",
    "    date_list.append(\n",
    "        datetime.date(\n",
    "            datetime.strptime(\"2020-%s-%s\" % (month, day), \"%Y-%m-%d\")\n",
    "        ).isoformat()\n",
    "    )\n",
    "    confirmed_list.append(int(item[\"confirm\"]))\n",
    "    suspected_list.append(int(item[\"suspect\"]))\n",
    "    dead_list.append(int(item[\"dead\"]))\n",
    "    cured_list.append(int(item[\"heal\"]))\n",
    "confirm_ylist = [0] + confirmed_list[:-1]\n",
    "confirm_addlist = [\n",
    "    confirmed_list[i] - confirm_ylist[i] for i in range(len(confirmed_list))\n",
    "]"
   ]
  },
  {
   "cell_type": "code",
   "execution_count": 5,
   "metadata": {},
   "outputs": [
    {
     "data": {
      "text/plain": [
       "<pyecharts.charts.basic_charts.line.Line at 0x2101dae9448>"
      ]
     },
     "execution_count": 5,
     "metadata": {},
     "output_type": "execute_result"
    },
    {
     "data": {
      "text/plain": [
       "<pyecharts.charts.basic_charts.line.Line at 0x2101dae9448>"
      ]
     },
     "execution_count": 5,
     "metadata": {},
     "output_type": "execute_result"
    },
    {
     "data": {
      "text/plain": [
       "<pyecharts.charts.basic_charts.line.Line at 0x2101dae9448>"
      ]
     },
     "execution_count": 5,
     "metadata": {},
     "output_type": "execute_result"
    },
    {
     "data": {
      "text/plain": [
       "<pyecharts.charts.basic_charts.line.Line at 0x2101dae9448>"
      ]
     },
     "execution_count": 5,
     "metadata": {},
     "output_type": "execute_result"
    },
    {
     "data": {
      "text/plain": [
       "<pyecharts.charts.basic_charts.line.Line at 0x2101dae9448>"
      ]
     },
     "execution_count": 5,
     "metadata": {},
     "output_type": "execute_result"
    },
    {
     "data": {
      "text/plain": [
       "'C:\\\\Users\\\\Eve\\\\Desktop\\\\2019-nCoV\\\\2019-nCoV_China_Trend.html'"
      ]
     },
     "execution_count": 5,
     "metadata": {},
     "output_type": "execute_result"
    },
    {
     "data": {
      "text/html": [
       "\n",
       "        <iframe\n",
       "            width=\"1000\"\n",
       "            height=\"600\"\n",
       "            src=\"./2019-nCoV_China_Trend.html\"\n",
       "            frameborder=\"0\"\n",
       "            allowfullscreen\n",
       "        ></iframe>\n",
       "        "
      ],
      "text/plain": [
       "<IPython.lib.display.IFrame at 0x2101dae4888>"
      ]
     },
     "execution_count": 5,
     "metadata": {},
     "output_type": "execute_result"
    }
   ],
   "source": [
    "file_name = \"2019-nCoV_China_Trend\"\n",
    "line = Line()\n",
    "line.add_xaxis(xaxis_data=date_list)\n",
    "line.add_yaxis(\n",
    "    series_name=\"Confirmed_Yesterday\",\n",
    "    stack=\"stack1\",\n",
    "    y_axis=confirm_ylist,\n",
    "    areastyle_opts=opts.AreaStyleOpts(opacity=0.3),\n",
    "    label_opts=opts.LabelOpts(is_show=False),\n",
    ")\n",
    "line.add_yaxis(\n",
    "    series_name=\"Confirmed_Add\",\n",
    "    stack=\"stack1\",\n",
    "    y_axis=confirm_addlist,\n",
    "    areastyle_opts=opts.AreaStyleOpts(opacity=0.5),\n",
    "    label_opts=opts.LabelOpts(is_show=False),\n",
    ")\n",
    "line.add_yaxis(\n",
    "    series_name=\"Confirmed_Today\",\n",
    "    stack=\"stack2\",\n",
    "    y_axis=confirmed_list,\n",
    "    areastyle_opts=opts.AreaStyleOpts(opacity=0.0),\n",
    "    #     label_opts=opts.LabelOpts(is_show=False),\n",
    ")\n",
    "line.set_global_opts(\n",
    "    title_opts=opts.TitleOpts(title=file_name),\n",
    "    #         datazoom_opts=[opts.DataZoomOpts(), opts.DataZoomOpts(type_='inside')],\n",
    "    toolbox_opts=opts.ToolboxOpts(),\n",
    "    tooltip_opts=opts.TooltipOpts(trigger=\"axis\", axis_pointer_type=\"cross\"),\n",
    "    yaxis_opts=opts.AxisOpts(\n",
    "        type_=\"value\",\n",
    "        axistick_opts=opts.AxisTickOpts(is_show=True),\n",
    "        splitline_opts=opts.SplitLineOpts(is_show=True),\n",
    "    ),\n",
    "    xaxis_opts=opts.AxisOpts(type_=\"category\", boundary_gap=False),\n",
    ")\n",
    "line.render(file_name + \".html\")\n",
    "\n",
    "IFrame(src=\"./\" + file_name + \".html\", width=1000, height=600)"
   ]
  },
  {
   "cell_type": "markdown",
   "metadata": {},
   "source": [
    "# World Count"
   ]
  },
  {
   "cell_type": "code",
   "execution_count": 6,
   "metadata": {},
   "outputs": [],
   "source": [
    "country = data[\"areaTree\"]\n",
    "country.sort(key=lambda x: x[\"total\"][\"confirm\"], reverse=True)\n",
    "# country"
   ]
  },
  {
   "cell_type": "code",
   "execution_count": 7,
   "metadata": {},
   "outputs": [],
   "source": [
    "def list_generation(map_type):\n",
    "    area_list = []\n",
    "    confirmed_list = []\n",
    "    suspected_list = []\n",
    "    dead_list = []\n",
    "    cured_list = []\n",
    "    for item in map_type:\n",
    "        area_list.append(item[\"name\"])\n",
    "        confirmed_list.append(int(item[\"total\"][\"confirm\"]))\n",
    "        suspected_list.append(int(item[\"total\"][\"suspect\"]))\n",
    "        dead_list.append(int(item[\"total\"][\"dead\"]))\n",
    "        cured_list.append(int(item[\"total\"][\"heal\"]))\n",
    "    return area_list, confirmed_list, suspected_list, dead_list, cured_list\n",
    "\n",
    "\n",
    "area_clist, confirmed_clist, suspected_clist, dead_clist, cured_clist = list_generation(\n",
    "    country\n",
    ")"
   ]
  },
  {
   "cell_type": "code",
   "execution_count": 8,
   "metadata": {},
   "outputs": [],
   "source": [
    "# def line_generation0(area_list, confirmed_list, suspected_list, dead_list, cured_list):\n",
    "#     plt.figure(figsize=(20, 5))\n",
    "#     plt.grid(color=\"r\", linestyle=\"-.\")\n",
    "#     plt.plot(\n",
    "#         area_list[1:],\n",
    "#         confirmed_list[1:],\n",
    "#         marker=\"o\",\n",
    "#         label=\"Confirmed_Count\",\n",
    "#         linestyle=\"-\",\n",
    "#     )\n",
    "#     plt.plot(area_list[1:], suspected_list[1:], label=\"Suspected_Count\")\n",
    "#     plt.plot(area_list[1:], dead_list[1:], label=\"Dead_Count\")\n",
    "#     plt.plot(area_list[1:], cured_list[1:], label=\"Cured_Count\")\n",
    "#     plt.legend()\n",
    "\n",
    "\n",
    "# line_generation0(area_clist, confirmed_clist, suspected_clist, dead_clist, cured_clist)"
   ]
  },
  {
   "cell_type": "code",
   "execution_count": 9,
   "metadata": {},
   "outputs": [
    {
     "data": {
      "text/html": [
       "\n",
       "        <iframe\n",
       "            width=\"1300\"\n",
       "            height=\"600\"\n",
       "            src=\"./2019-nCoV_World_Line.html\"\n",
       "            frameborder=\"0\"\n",
       "            allowfullscreen\n",
       "        ></iframe>\n",
       "        "
      ],
      "text/plain": [
       "<IPython.lib.display.IFrame at 0x2101db1cc08>"
      ]
     },
     "execution_count": 9,
     "metadata": {},
     "output_type": "execute_result"
    }
   ],
   "source": [
    "def line_generation(\n",
    "    area_list, confirmed_list, suspected_list, dead_list, cured_list, map_type\n",
    ") -> Line:\n",
    "    if map_type == \"world\":\n",
    "        file_name = \"2019-nCoV_\" + \"World\"\n",
    "    elif map_type == \"china\" or map_type == \"China\" or map_type == \"中国\":\n",
    "        file_name = \"2019-nCoV_\" + \"China\"\n",
    "    else:\n",
    "        province_pyname = \"\".join(lazy_pinyin(province_name))\n",
    "        file_name = \"2019-nCoV_\" + province_pyname.title()\n",
    "    c = (\n",
    "        Line(init_opts=opts.InitOpts(width=\"1200px\", height=\"500px\"))\n",
    "        .add_xaxis(area_list[1:])\n",
    "        .add_yaxis(\n",
    "            \"Confirmed_Count\",\n",
    "            confirmed_list[1:],\n",
    "            #             markline_opts=opts.MarkLineOpts(data=[opts.MarkLineItem(type_=\"max\")]),\n",
    "        )\n",
    "        .add_yaxis(\n",
    "            \"Suspected_Count\",\n",
    "            suspected_list[1:],\n",
    "            label_opts=opts.LabelOpts(is_show=False),\n",
    "            #             markpoint_opts=opts.MarkPointOpts(data=[opts.MarkPointItem(type_=\"max\"),]),\n",
    "        )\n",
    "        .add_yaxis(\n",
    "            \"Dead_Count\",\n",
    "            dead_list[1:],\n",
    "            label_opts=opts.LabelOpts(is_show=False),\n",
    "            #             markpoint_opts=opts.MarkPointOpts(data=[opts.MarkPointItem(type_=\"max\"),]),\n",
    "        )\n",
    "        .add_yaxis(\n",
    "            \"Cured_Count\",\n",
    "            cured_list[1:],\n",
    "            label_opts=opts.LabelOpts(is_show=False),\n",
    "            #             markpoint_opts=opts.MarkPointOpts(data=[opts.MarkPointItem(type_=\"max\"),]),\n",
    "        )\n",
    "        .set_series_opts(\n",
    "            markpoint_opts=opts.MarkPointOpts(data=[opts.MarkPointItem(type_=\"max\"),]),\n",
    "        )\n",
    "        .set_global_opts(\n",
    "            title_opts=opts.TitleOpts(title=file_name + \"_Line\"),\n",
    "            toolbox_opts=opts.ToolboxOpts(),\n",
    "            tooltip_opts=opts.TooltipOpts(trigger=\"axis\", axis_pointer_type=\"cross\"),\n",
    "            yaxis_opts=opts.AxisOpts(\n",
    "                type_=\"value\",\n",
    "                axistick_opts=opts.AxisTickOpts(is_show=True),\n",
    "                splitline_opts=opts.SplitLineOpts(is_show=True),\n",
    "            ),\n",
    "            xaxis_opts=opts.AxisOpts(\n",
    "                type_=\"category\",\n",
    "                axislabel_opts=opts.LabelOpts(rotate=30, font_size=10),\n",
    "                #                 axistick_opts=opts.AxisTickOpts(is_show=True),\n",
    "                #                 boundary_gap=False,\n",
    "            ),\n",
    "        )\n",
    "        .render(file_name + \"_Line.html\")\n",
    "    )\n",
    "    return IFrame(src=\"./\" + file_name + \"_Line.html\", width=1300, height=600)\n",
    "\n",
    "\n",
    "line_generation(\n",
    "    area_clist, confirmed_clist, suspected_clist, dead_clist, cured_clist, \"world\"\n",
    ")"
   ]
  },
  {
   "cell_type": "code",
   "execution_count": 10,
   "metadata": {},
   "outputs": [],
   "source": [
    "with open(\"country.json\", \"r\", encoding=\"utf-8\") as f:\n",
    "    country_data = dict(json.load(f))\n",
    "country_ename = [x for i in area_clist for x, y in country_data.items() if i == y]\n",
    "country_dict = dict(zip(country_ename, confirmed_clist))"
   ]
  },
  {
   "cell_type": "code",
   "execution_count": 11,
   "metadata": {},
   "outputs": [
    {
     "data": {
      "text/html": [
       "\n",
       "        <iframe\n",
       "            width=\"1100\"\n",
       "            height=\"600\"\n",
       "            src=\"./2019-nCoV_World_Pie.html\"\n",
       "            frameborder=\"0\"\n",
       "            allowfullscreen\n",
       "        ></iframe>\n",
       "        "
      ],
      "text/plain": [
       "<IPython.lib.display.IFrame at 0x2101dae07c8>"
      ]
     },
     "execution_count": 11,
     "metadata": {},
     "output_type": "execute_result"
    }
   ],
   "source": [
    "def pie_generation(data_dict, map_type, skip=True):\n",
    "    if map_type == \"world\":\n",
    "        file_name = \"2019-nCoV_\" + \"World\"\n",
    "    elif map_type == \"china\" or map_type == \"China\" or map_type == \"中国\":\n",
    "        file_name = \"2019-nCoV_\" + \"China\"\n",
    "    else:\n",
    "        province_pyname = \"\".join(lazy_pinyin(province_name))\n",
    "        file_name = \"2019-nCoV_\" + province_pyname.title()\n",
    "    c = (\n",
    "        Pie()\n",
    "        .add(\n",
    "            \"\",\n",
    "            [list(z) for z in data_dict.items()][1:]\n",
    "            if skip\n",
    "            else [list(z) for z in data_dict.items()],\n",
    "        )\n",
    "        .set_series_opts(label_opts=opts.LabelOpts(formatter=\"{b}: {c}\"))\n",
    "        .set_global_opts(\n",
    "            title_opts=opts.TitleOpts(title=file_name + \"_Pie\"),\n",
    "            legend_opts=opts.LegendOpts(pos_left=\"90%\", orient=\"vertical\"),\n",
    "        )\n",
    "    )\n",
    "    c.render(file_name + \"_Pie.html\")\n",
    "    return IFrame(src=\"./\" + file_name + \"_Pie.html\", width=1100, height=600)\n",
    "\n",
    "\n",
    "pie_generation(country_dict, \"world\")"
   ]
  },
  {
   "cell_type": "code",
   "execution_count": 12,
   "metadata": {},
   "outputs": [
    {
     "data": {
      "text/html": [
       "\n",
       "        <iframe\n",
       "            width=\"1000\"\n",
       "            height=\"600\"\n",
       "            src=\"./2019-nCoV_World_Map.html\"\n",
       "            frameborder=\"0\"\n",
       "            allowfullscreen\n",
       "        ></iframe>\n",
       "        "
      ],
      "text/plain": [
       "<IPython.lib.display.IFrame at 0x2101b4e9d88>"
      ]
     },
     "execution_count": 12,
     "metadata": {},
     "output_type": "execute_result"
    }
   ],
   "source": [
    "def map_generation(data_dict, map_type):\n",
    "    map = Map()\n",
    "    if map_type == \"world\":\n",
    "        file_name = \"2019-nCoV_\" + \"World\"\n",
    "        map.add(\n",
    "            \"Country_Count\",\n",
    "            data_pair=data_dict.items(),\n",
    "            maptype=map_type,\n",
    "            is_roam=True,\n",
    "        )\n",
    "        map.set_series_opts(label_opts=opts.LabelOpts(is_show=False))\n",
    "    elif map_type == \"china\" or map_type == \"China\" or map_type == \"中国\":\n",
    "        file_name = \"2019-nCoV_\" + \"China\"\n",
    "        map.add(\n",
    "            \"Province_Count\",\n",
    "            data_pair=data_dict.items(),\n",
    "            maptype=\"china\",\n",
    "            is_roam=True,\n",
    "        )\n",
    "    else:\n",
    "        province_pyname = \"\".join(lazy_pinyin(province_name))\n",
    "        file_name = \"2019-nCoV_\" + province_pyname.title()\n",
    "        map.add(\n",
    "            \"City_Count\", data_pair=data_dict.items(), maptype=map_type, is_roam=True,\n",
    "        )\n",
    "    map.set_global_opts(\n",
    "        title_opts=opts.TitleOpts(title=file_name + \"_Map\"),\n",
    "        toolbox_opts=opts.ToolboxOpts(),\n",
    "        visualmap_opts=opts.VisualMapOpts(\n",
    "            #             max_=30000\n",
    "            is_piecewise=True,\n",
    "            pieces=[\n",
    "                {\"max\": 100000, \"min\": 10000, \"label\": \">=10000\", \"color\": \"#8A0808\"},\n",
    "                {\"max\": 9999, \"min\": 1000, \"label\": \"1000-9999\", \"color\": \"#B40404\"},\n",
    "                {\"max\": 999, \"min\": 500, \"label\": \"500-999\", \"color\": \"#DF0101\"},\n",
    "                {\"max\": 499, \"min\": 100, \"label\": \"100-499\", \"color\": \"#eb6666\"},\n",
    "                {\"max\": 99, \"min\": 10, \"label\": \"10-99\", \"color\": \"#F5A9A9\"},\n",
    "                {\"max\": 9, \"min\": 1, \"label\": \"1-9\", \"color\": \"#fae5e5\"},\n",
    "                {\"max\": 0, \"min\": 0, \"label\": \"0\", \"color\": \"#FFFFFF\"},\n",
    "            ],\n",
    "        ),\n",
    "    )\n",
    "    map.render(file_name + \"_Map.html\")\n",
    "    return IFrame(src=\"./\" + file_name + \"_Map.html\", width=1000, height=600)\n",
    "\n",
    "\n",
    "map_generation(country_dict, \"world\")"
   ]
  },
  {
   "cell_type": "markdown",
   "metadata": {},
   "source": [
    "# China Count"
   ]
  },
  {
   "cell_type": "code",
   "execution_count": 13,
   "metadata": {},
   "outputs": [],
   "source": [
    "country_name = \"中国\"\n",
    "province = [\n",
    "    item[\"children\"] for item in data[\"areaTree\"] if item[\"name\"] == country_name\n",
    "][0]\n",
    "\n",
    "province.sort(key=lambda x: x[\"total\"][\"confirm\"], reverse=True)\n",
    "# province"
   ]
  },
  {
   "cell_type": "code",
   "execution_count": 14,
   "metadata": {},
   "outputs": [
    {
     "data": {
      "text/html": [
       "\n",
       "        <iframe\n",
       "            width=\"1300\"\n",
       "            height=\"600\"\n",
       "            src=\"./2019-nCoV_China_Line.html\"\n",
       "            frameborder=\"0\"\n",
       "            allowfullscreen\n",
       "        ></iframe>\n",
       "        "
      ],
      "text/plain": [
       "<IPython.lib.display.IFrame at 0x2101db2db88>"
      ]
     },
     "execution_count": 14,
     "metadata": {},
     "output_type": "execute_result"
    }
   ],
   "source": [
    "area_plist, confirmed_plist, suspected_plist, dead_plist, cured_plist = list_generation(\n",
    "    province\n",
    ")\n",
    "line_generation(\n",
    "    area_plist, confirmed_plist, suspected_plist, dead_plist, cured_plist, country_name\n",
    ")"
   ]
  },
  {
   "cell_type": "code",
   "execution_count": 15,
   "metadata": {},
   "outputs": [],
   "source": [
    "province_dict = dict(zip(area_plist, confirmed_plist))"
   ]
  },
  {
   "cell_type": "code",
   "execution_count": 16,
   "metadata": {},
   "outputs": [
    {
     "data": {
      "text/html": [
       "\n",
       "        <iframe\n",
       "            width=\"1000\"\n",
       "            height=\"600\"\n",
       "            src=\"./2019-nCoV_China_Map.html\"\n",
       "            frameborder=\"0\"\n",
       "            allowfullscreen\n",
       "        ></iframe>\n",
       "        "
      ],
      "text/plain": [
       "<IPython.lib.display.IFrame at 0x2101daf15c8>"
      ]
     },
     "execution_count": 16,
     "metadata": {},
     "output_type": "execute_result"
    }
   ],
   "source": [
    "map_generation(province_dict, country_name)"
   ]
  },
  {
   "cell_type": "code",
   "execution_count": 17,
   "metadata": {},
   "outputs": [
    {
     "data": {
      "text/html": [
       "\n",
       "        <iframe\n",
       "            width=\"1100\"\n",
       "            height=\"600\"\n",
       "            src=\"./2019-nCoV_China_Pie.html\"\n",
       "            frameborder=\"0\"\n",
       "            allowfullscreen\n",
       "        ></iframe>\n",
       "        "
      ],
      "text/plain": [
       "<IPython.lib.display.IFrame at 0x210188898c8>"
      ]
     },
     "execution_count": 17,
     "metadata": {},
     "output_type": "execute_result"
    }
   ],
   "source": [
    "pie_generation(province_dict, country_name, False)"
   ]
  },
  {
   "cell_type": "markdown",
   "metadata": {},
   "source": [
    "# Province Count"
   ]
  },
  {
   "cell_type": "code",
   "execution_count": 18,
   "metadata": {},
   "outputs": [],
   "source": [
    "province_name = \"湖北\"\n",
    "city = [\n",
    "    item[\"children\"]\n",
    "    for item in data[\"areaTree\"][0][\"children\"]\n",
    "    if item[\"name\"] == province_name\n",
    "][0]\n",
    "city.sort(key=lambda x: x[\"total\"][\"confirm\"], reverse=True)\n",
    "# city"
   ]
  },
  {
   "cell_type": "code",
   "execution_count": 19,
   "metadata": {},
   "outputs": [
    {
     "data": {
      "text/html": [
       "\n",
       "        <iframe\n",
       "            width=\"1300\"\n",
       "            height=\"600\"\n",
       "            src=\"./2019-nCoV_Hubei_Line.html\"\n",
       "            frameborder=\"0\"\n",
       "            allowfullscreen\n",
       "        ></iframe>\n",
       "        "
      ],
      "text/plain": [
       "<IPython.lib.display.IFrame at 0x2101db09988>"
      ]
     },
     "execution_count": 19,
     "metadata": {},
     "output_type": "execute_result"
    }
   ],
   "source": [
    "(\n",
    "    area_ctlist,\n",
    "    confirmed_ctlist,\n",
    "    suspected_ctlist,\n",
    "    dead_ctlist,\n",
    "    cured_ctlist,\n",
    ") = list_generation(city)\n",
    "\n",
    "line_generation(\n",
    "    area_ctlist,\n",
    "    confirmed_ctlist,\n",
    "    suspected_ctlist,\n",
    "    dead_ctlist,\n",
    "    cured_ctlist,\n",
    "    province_name,\n",
    ")"
   ]
  },
  {
   "cell_type": "code",
   "execution_count": 20,
   "metadata": {},
   "outputs": [],
   "source": [
    "with open(\"city.json\", \"r\", encoding=\"utf-8\") as f:\n",
    "    city_data = json.load(f)[\"provinces\"]\n",
    "city_flist = [\n",
    "    item[\"cities\"] for item in city_data if province_name in item[\"province\"]\n",
    "][0]\n",
    "city_rlist = [\n",
    "    city_flist[j]\n",
    "    for i in range(len(area_ctlist))\n",
    "    for j in range(len(city_flist))\n",
    "    if area_ctlist[i][:2] in city_flist[j]\n",
    "]\n",
    "city_dict = dict(zip(city_rlist, confirmed_ctlist))"
   ]
  },
  {
   "cell_type": "code",
   "execution_count": 21,
   "metadata": {},
   "outputs": [
    {
     "data": {
      "text/html": [
       "\n",
       "        <iframe\n",
       "            width=\"1000\"\n",
       "            height=\"600\"\n",
       "            src=\"./2019-nCoV_Hubei_Map.html\"\n",
       "            frameborder=\"0\"\n",
       "            allowfullscreen\n",
       "        ></iframe>\n",
       "        "
      ],
      "text/plain": [
       "<IPython.lib.display.IFrame at 0x2101db72888>"
      ]
     },
     "execution_count": 21,
     "metadata": {},
     "output_type": "execute_result"
    }
   ],
   "source": [
    "map_generation(city_dict, province_name)"
   ]
  },
  {
   "cell_type": "code",
   "execution_count": 22,
   "metadata": {},
   "outputs": [
    {
     "data": {
      "text/html": [
       "\n",
       "        <iframe\n",
       "            width=\"1100\"\n",
       "            height=\"600\"\n",
       "            src=\"./2019-nCoV_Hubei_Pie.html\"\n",
       "            frameborder=\"0\"\n",
       "            allowfullscreen\n",
       "        ></iframe>\n",
       "        "
      ],
      "text/plain": [
       "<IPython.lib.display.IFrame at 0x2101db23f88>"
      ]
     },
     "execution_count": 22,
     "metadata": {},
     "output_type": "execute_result"
    }
   ],
   "source": [
    "pie_generation(city_dict, province_name, False)"
   ]
  },
  {
   "cell_type": "code",
   "execution_count": null,
   "metadata": {},
   "outputs": [],
   "source": []
  }
 ],
 "metadata": {
  "kernelspec": {
   "display_name": "Python 3.7.4 64-bit ('Eve': virtualenv)",
   "language": "python",
   "name": "python37464bitevevirtualenvb0f75805c85f4820bb95817f7852b730"
  },
  "language_info": {
   "codemirror_mode": {
    "name": "ipython",
    "version": 3
   },
   "file_extension": ".py",
   "mimetype": "text/x-python",
   "name": "python",
   "nbconvert_exporter": "python",
   "pygments_lexer": "ipython3",
   "version": "3.7.4"
  },
  "toc-autonumbering": true
 },
 "nbformat": 4,
 "nbformat_minor": 4
}
